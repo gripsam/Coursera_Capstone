{
 "cells": [
  {
   "cell_type": "markdown",
   "metadata": {},
   "source": [
    "## Capstone Project - The Battle of Neighborhoods\n",
    "### Introducting new new bicycle parking locations\n",
    "\n",
    "### Content\n",
    "1 Introduction Section :\n",
    "\n",
    "    1.1 Discussion and backgrond\n",
    "\n",
    "    1.2 Problem to be resolved\n",
    "\n",
    "    1.3 Targated audience"
   ]
  },
  {
   "cell_type": "markdown",
   "metadata": {},
   "source": [
    "### 1 Introduction Section :\n",
    "[1] Düsseldorf is a city on the River Rhine in western Germany and is the capital city of the state of North Rhine-Westphalia. It is one of the economic centres of the country, and a major city within the Rhine-Ruhr metropolitan area, with a population of almost 600,000.The capital of North Rhine-Westphalia Germany, Dusseldorf is a regional economic powerhouse straddling the banks of the Rhine River. Altstadt is Dusseldorf's lovely old town.\n",
    "#### 1.1 Discussion and backgrond\n",
    "[2] Düsseldorf is connected to some national and international cycling paths, including EV15 The Rhine Cycle Route.\n",
    "The city of Düsseldorf is a member of the German North Rhine-Westphalia District, Municipality and City Friends of Pedestrians and Cyclists Working Group, who bestowed upon Düsseldorf the title of \"Friend of Cyclists City\" in 2007, although the city still has a few gaps in the network of cycle paths in the eyes of many of its citizens. \n",
    "####  1.2 Problem to be resolved\n",
    "City have some offical bicycle parking spots but amost all of them are located on railway station.\n",
    "Can we endorse a location in Duesseldorf to open a new bicycle parking?. New bicycle parking spot will motivate people to go shopping or hangout on bicycles which can reduce the traffic and car parking problem in the city. \n",
    "#### 1.3 Targated audience\n",
    " The report is aimed primarily at those involved in city planning, sports clubs and students learning data science."
   ]
  },
  {
   "cell_type": "markdown",
   "metadata": {},
   "source": [
    "### references\n",
    "1. https://en.wikipedia.org/wiki/D%C3%BCsseldorf\n",
    "\n",
    "2. https://en.wikivoyage.org/wiki/D%C3%BCsseldorf"
   ]
  },
  {
   "cell_type": "code",
   "execution_count": null,
   "metadata": {},
   "outputs": [],
   "source": []
  }
 ],
 "metadata": {
  "kernelspec": {
   "display_name": "Python 3",
   "language": "python",
   "name": "python3"
  },
  "language_info": {
   "codemirror_mode": {
    "name": "ipython",
    "version": 3
   },
   "file_extension": ".py",
   "mimetype": "text/x-python",
   "name": "python",
   "nbconvert_exporter": "python",
   "pygments_lexer": "ipython3",
   "version": "3.7.3"
  }
 },
 "nbformat": 4,
 "nbformat_minor": 2
}
