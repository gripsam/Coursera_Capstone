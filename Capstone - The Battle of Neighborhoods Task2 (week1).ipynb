{
 "cells": [
  {
   "cell_type": "markdown",
   "metadata": {},
   "source": [
    "## Capstone Project - The Battle of Neighborhoods\n",
    "### Introducting new bicycle parking locations\n",
    "\n",
    "### Content\n",
    "1 Introduction Section :\n",
    "\n",
    "    1.1 Discussion and background\n",
    "    1.2 Problem to be resolved\n",
    "    1.3 Targeted audience\n",
    "    \n",
    "2 Data Section:\n",
    "\n",
    "    2.1 Required data\n",
    "    2.2 Data sources"
   ]
  },
  {
   "cell_type": "markdown",
   "metadata": {},
   "source": [
    "### 1 Introduction Section :\n",
    "[1] Düsseldorf is a city on the River Rhine in western Germany and is the capital city of the state of North Rhine-Westphalia. It is one of the economic centers of the country, and a major city within the Rhine-Ruhr metropolitan area, with a population of almost 600,000.The capital of North Rhine-Westphalia Germany, Dusseldorf is a regional economic powerhouse straddling the banks of the Rhine River. Altstadt is Dusseldorf's lovely old town.\n",
    "#### 1.1 Discussion and background\n",
    "[2] Düsseldorf is connected to some national and international cycling paths, including EV15 The Rhine Cycle Route. The city of Düsseldorf is a member of the German North Rhine-Westphalia District, Municipality and City Friends of Pedestrians and Cyclists Working Group, who bestowed upon Düsseldorf the title of \"Friend of Cyclists City\" in 2007, although the city still has a few gaps in the network of cycle paths in the eyes of many of its citizens.\n",
    "####  1.2 Problem to be resolved\n",
    "City have some official bicycle parking spots but most all of them are located on railway station. Can we endorse a location in Duesseldorf to open a new bicycle parking?. New bicycle parking spot will motivate people to go shopping or hangout on bicycles which can reduce the traffic and car parking problem in the city.\n",
    "#### 1.3 Targeted audience\n",
    " The report is aimed primarily at those involved in city planning, sports clubs and students learning data science."
   ]
  },
  {
   "cell_type": "markdown",
   "metadata": {},
   "source": [
    "### 2 Data Section:\n",
    "#### 2.1 Required data\n",
    "We are going to predict a new bicycle parking location, so a list of existing bicycle location will a perfect point to start. We will need a list of coordinates where currently existing parking are located. For the sake of simplicity we will ignore the number of parking spaces assigned to each bicycle parking place. Also we will only consider bicycle parking which are official assigned from the city. A list of all the zip codes in the city which will be use to gather and cluster the bicycle frendly businesses from each neighbourhood.\n",
    "The other list we need is the number and type of businesses and avenue located around these existing parking places. Average distance of bicycle parking from avenues can be calculated later. \n",
    "\n",
    "#### 2.2 Data sources\n",
    "A variety of publicly open data about the city of Duesseldorf is available on the city website. We will be using https://opendata.duesseldorf.de/node/40945/download, where a list of all bicycle parking locations with latitudes and longitudes are available as csv file. This data is maintained by the city itself "
   ]
  },
  {
   "cell_type": "code",
   "execution_count": 82,
   "metadata": {},
   "outputs": [],
   "source": [
    "import pandas as pd\n",
    "import numpy as np"
   ]
  },
  {
   "cell_type": "code",
   "execution_count": 17,
   "metadata": {},
   "outputs": [
    {
     "data": {
      "text/html": [
       "<div>\n",
       "<style scoped>\n",
       "    .dataframe tbody tr th:only-of-type {\n",
       "        vertical-align: middle;\n",
       "    }\n",
       "\n",
       "    .dataframe tbody tr th {\n",
       "        vertical-align: top;\n",
       "    }\n",
       "\n",
       "    .dataframe thead th {\n",
       "        text-align: right;\n",
       "    }\n",
       "</style>\n",
       "<table border=\"1\" class=\"dataframe\">\n",
       "  <thead>\n",
       "    <tr style=\"text-align: right;\">\n",
       "      <th></th>\n",
       "      <th>LATITUDE</th>\n",
       "      <th>LONGITUDE</th>\n",
       "      <th>Name</th>\n",
       "      <th>PLZ</th>\n",
       "    </tr>\n",
       "  </thead>\n",
       "  <tbody>\n",
       "    <tr>\n",
       "      <th>0</th>\n",
       "      <td>6.768617</td>\n",
       "      <td>51.195687</td>\n",
       "      <td>Aachener Straße - Aachener Platz</td>\n",
       "      <td>40223</td>\n",
       "    </tr>\n",
       "    <tr>\n",
       "      <th>1</th>\n",
       "      <td>6.737520</td>\n",
       "      <td>51.241592</td>\n",
       "      <td>Am Seestern U</td>\n",
       "      <td>40547</td>\n",
       "    </tr>\n",
       "    <tr>\n",
       "      <th>2</th>\n",
       "      <td>6.775968</td>\n",
       "      <td>51.326056</td>\n",
       "      <td>An den Kämpen</td>\n",
       "      <td>40489</td>\n",
       "    </tr>\n",
       "    <tr>\n",
       "      <th>3</th>\n",
       "      <td>6.782346</td>\n",
       "      <td>51.329916</td>\n",
       "      <td>Angermund S</td>\n",
       "      <td>40489</td>\n",
       "    </tr>\n",
       "    <tr>\n",
       "      <th>4</th>\n",
       "      <td>6.779024</td>\n",
       "      <td>51.328519</td>\n",
       "      <td>Auf der Krone</td>\n",
       "      <td>40489</td>\n",
       "    </tr>\n",
       "    <tr>\n",
       "      <th>...</th>\n",
       "      <td>...</td>\n",
       "      <td>...</td>\n",
       "      <td>...</td>\n",
       "      <td>...</td>\n",
       "    </tr>\n",
       "    <tr>\n",
       "      <th>70</th>\n",
       "      <td>6.793592</td>\n",
       "      <td>51.209476</td>\n",
       "      <td>Volksgarten S</td>\n",
       "      <td>40227</td>\n",
       "    </tr>\n",
       "    <tr>\n",
       "      <th>71</th>\n",
       "      <td>6.797494</td>\n",
       "      <td>51.229640</td>\n",
       "      <td>Wehrhahn S</td>\n",
       "      <td>40211</td>\n",
       "    </tr>\n",
       "    <tr>\n",
       "      <th>72</th>\n",
       "      <td>6.815090</td>\n",
       "      <td>51.193260</td>\n",
       "      <td>Werstener Dorfstraße</td>\n",
       "      <td>40591</td>\n",
       "    </tr>\n",
       "    <tr>\n",
       "      <th>73</th>\n",
       "      <td>6.745620</td>\n",
       "      <td>51.318502</td>\n",
       "      <td>Wittlaer U</td>\n",
       "      <td>40489</td>\n",
       "    </tr>\n",
       "    <tr>\n",
       "      <th>74</th>\n",
       "      <td>6.797515</td>\n",
       "      <td>51.236378</td>\n",
       "      <td>Zoo S</td>\n",
       "      <td>40237</td>\n",
       "    </tr>\n",
       "  </tbody>\n",
       "</table>\n",
       "<p>75 rows × 4 columns</p>\n",
       "</div>"
      ],
      "text/plain": [
       "    LATITUDE  LONGITUDE                              Name    PLZ\n",
       "0   6.768617  51.195687  Aachener Straße - Aachener Platz  40223\n",
       "1   6.737520  51.241592                     Am Seestern U  40547\n",
       "2   6.775968  51.326056                     An den Kämpen  40489\n",
       "3   6.782346  51.329916                       Angermund S  40489\n",
       "4   6.779024  51.328519                     Auf der Krone  40489\n",
       "..       ...        ...                               ...    ...\n",
       "70  6.793592  51.209476                     Volksgarten S  40227\n",
       "71  6.797494  51.229640                        Wehrhahn S  40211\n",
       "72  6.815090  51.193260              Werstener Dorfstraße  40591\n",
       "73  6.745620  51.318502                        Wittlaer U  40489\n",
       "74  6.797515  51.236378                             Zoo S  40237\n",
       "\n",
       "[75 rows x 4 columns]"
      ]
     },
     "execution_count": 17,
     "metadata": {},
     "output_type": "execute_result"
    }
   ],
   "source": [
    "#List of parking spaces has been taken from local csv after downloading it from open portal\n",
    "df = pd.read_csv(r'C:\\Users\\skhaldy\\Downloads\\Bike + Ride-Stationen.csv', delimiter=\";\")\n",
    "df = df[['LATITUDE','LONGITUDE','Name','PLZ']]\n",
    "df"
   ]
  },
  {
   "cell_type": "markdown",
   "metadata": {},
   "source": [
    "from the record we can see there are 75 official bicycle parkings in the city."
   ]
  },
  {
   "cell_type": "markdown",
   "metadata": {},
   "source": [
    "We can get a json file about geo data from the following link. This geojson will be use to locate draw the boundries of around every district and give district every district a u\n",
    "'https://opendata.duesseldorf.de/node/42155/download'"
   ]
  },
  {
   "cell_type": "code",
   "execution_count": 22,
   "metadata": {},
   "outputs": [],
   "source": [
    "duesseldorf_geo = 'https://opendata.duesseldorf.de/sites/default/files/Stadtteile_WGS84_4326.geojson'\n",
    "import requests\n",
    "r = requests.get(duesseldorf_geo)\n",
    "json_data = r.json()"
   ]
  },
  {
   "cell_type": "code",
   "execution_count": 146,
   "metadata": {},
   "outputs": [
    {
     "data": {
      "text/html": [
       "<div>\n",
       "<style scoped>\n",
       "    .dataframe tbody tr th:only-of-type {\n",
       "        vertical-align: middle;\n",
       "    }\n",
       "\n",
       "    .dataframe tbody tr th {\n",
       "        vertical-align: top;\n",
       "    }\n",
       "\n",
       "    .dataframe thead th {\n",
       "        text-align: right;\n",
       "    }\n",
       "</style>\n",
       "<table border=\"1\" class=\"dataframe\">\n",
       "  <thead>\n",
       "    <tr style=\"text-align: right;\">\n",
       "      <th></th>\n",
       "      <th>District</th>\n",
       "      <th>LAT</th>\n",
       "      <th>LON</th>\n",
       "    </tr>\n",
       "  </thead>\n",
       "  <tbody>\n",
       "    <tr>\n",
       "      <th>0</th>\n",
       "      <td>Wittlaer</td>\n",
       "      <td>NaN</td>\n",
       "      <td>NaN</td>\n",
       "    </tr>\n",
       "    <tr>\n",
       "      <th>1</th>\n",
       "      <td>Angermund</td>\n",
       "      <td>NaN</td>\n",
       "      <td>NaN</td>\n",
       "    </tr>\n",
       "    <tr>\n",
       "      <th>2</th>\n",
       "      <td>Lörick</td>\n",
       "      <td>NaN</td>\n",
       "      <td>NaN</td>\n",
       "    </tr>\n",
       "    <tr>\n",
       "      <th>3</th>\n",
       "      <td>Heerdt</td>\n",
       "      <td>NaN</td>\n",
       "      <td>NaN</td>\n",
       "    </tr>\n",
       "    <tr>\n",
       "      <th>4</th>\n",
       "      <td>Oberkassel</td>\n",
       "      <td>NaN</td>\n",
       "      <td>NaN</td>\n",
       "    </tr>\n",
       "  </tbody>\n",
       "</table>\n",
       "</div>"
      ],
      "text/plain": [
       "     District  LAT  LON\n",
       "0    Wittlaer  NaN  NaN\n",
       "1   Angermund  NaN  NaN\n",
       "2      Lörick  NaN  NaN\n",
       "3      Heerdt  NaN  NaN\n",
       "4  Oberkassel  NaN  NaN"
      ]
     },
     "execution_count": 146,
     "metadata": {},
     "output_type": "execute_result"
    }
   ],
   "source": [
    "import json\n",
    "\n",
    "districts_df = pd.DataFrame(columns=('District','LAT', 'LON')) #create an empty data frame\n",
    "\n",
    "for key in readable_json['features']:\n",
    "    districts_df = districts_df.append( \\\n",
    "                                       {'District' : key['properties']['Name']\n",
    "                                       } , ignore_index=True)\n",
    "\n",
    "districts_df.head()    "
   ]
  },
  {
   "cell_type": "markdown",
   "metadata": {},
   "source": [
    "Later i will be using an offline list of latitude and longitude to get the cental point of the district currently geopy library is not working peoperly in my region. Lastly we will collect the bicycle friendy venues in every district (called 'Stadtteil in German') using Foursquare api. "
   ]
  },
  {
   "cell_type": "code",
   "execution_count": null,
   "metadata": {},
   "outputs": [],
   "source": []
  }
 ],
 "metadata": {
  "kernelspec": {
   "display_name": "Python 3",
   "language": "python",
   "name": "python3"
  },
  "language_info": {
   "codemirror_mode": {
    "name": "ipython",
    "version": 3
   },
   "file_extension": ".py",
   "mimetype": "text/x-python",
   "name": "python",
   "nbconvert_exporter": "python",
   "pygments_lexer": "ipython3",
   "version": "3.7.3"
  }
 },
 "nbformat": 4,
 "nbformat_minor": 2
}
